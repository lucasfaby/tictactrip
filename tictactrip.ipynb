{
  "nbformat": 4,
  "nbformat_minor": 0,
  "metadata": {
    "colab": {
      "name": "Untitled1.ipynb",
      "provenance": [],
      "collapsed_sections": []
    },
    "kernelspec": {
      "name": "python3",
      "display_name": "Python 3"
    }
  },
  "cells": [
    {
      "cell_type": "code",
      "metadata": {
        "id": "kwczb9yhKmJx"
      },
      "source": [
        "import pandas as pd\r\n",
        "from datetime import datetime\r\n",
        "from datetime import timedelta\r\n",
        "import statistics\r\n",
        "from math import sin, cos, sqrt, atan2, radians"
      ],
      "execution_count": 2,
      "outputs": []
    },
    {
      "cell_type": "code",
      "metadata": {
        "id": "NDrNtzheKx8e"
      },
      "source": [
        "cities_df= pd.read_csv(\"/content/cities.csv\")\r\n",
        "providers_df = pd.read_csv(\"/content/providers.csv\")\r\n",
        "stations_df = pd.read_csv(\"/content/stations.csv\")\r\n",
        "ticket_data_df = pd.read_csv(\"/content/ticket_data.csv\")"
      ],
      "execution_count": 6,
      "outputs": []
    },
    {
      "cell_type": "code",
      "metadata": {
        "id": "XNjO0Q7TLo1W"
      },
      "source": [
        "#on crée des dictionnaires pour rendre l'accès plus rapide par la suite\r\n",
        "\r\n",
        "def df_dic(df,keys,values):\r\n",
        "    dic={}\r\n",
        "    for _,row in df.iterrows():\r\n",
        "        dic[row[keys]]= row[values]\r\n",
        "    return dic\r\n",
        "\r\n",
        "dic_city_to_id = df_dic(cities_df,\"unique_name\",\"id\")\r\n",
        "dic_id_to_city = df_dic(cities_df,\"id\",\"unique_name\")\r\n",
        "dic_id_to_station = df_dic(stations_df,\"id\",\"unique_name\")\r\n",
        "dic_cityid_to_long = df_dic(cities_df,\"id\",\"longitude\")\r\n",
        "dic_cityid_to_lat = df_dic(cities_df,\"id\",\"latitude\")\r\n",
        "dic_id_to_compagnie = df_dic(providers_df,\"id\",\"fullname\")\r\n",
        "dic_id_to_transport_type = df_dic(providers_df,\"id\",\"transport_type\")"
      ],
      "execution_count": 24,
      "outputs": []
    },
    {
      "cell_type": "code",
      "metadata": {
        "colab": {
          "base_uri": "https://localhost:8080/"
        },
        "id": "MKf7pPOALtG3",
        "outputId": "062071e3-0bd3-4e29-a613-fddadb15784a"
      },
      "source": [
        "#on crée un index inversé afin de raccourcir les temps de recherche dans les trajets\r\n",
        "\r\n",
        "try:\r\n",
        "    index_inverse_villes\r\n",
        "    print(\"l'index est déjà généré\")\r\n",
        "except:\r\n",
        "    index_inverse_villes ={}\r\n",
        "    for index,trajet in ticket_data_df.iterrows():\r\n",
        "        if trajet[\"o_city\"] in index_inverse_villes.keys():\r\n",
        "            index_inverse_villes[trajet[\"o_city\"]].append(trajet)\r\n",
        "        else:\r\n",
        "            index_inverse_villes[trajet[\"o_city\"]]=[(trajet)]\r\n",
        "    print(\"index inversé généré\")"
      ],
      "execution_count": 12,
      "outputs": [
        {
          "output_type": "stream",
          "text": [
            "l'index est déjà généré\n"
          ],
          "name": "stdout"
        }
      ]
    },
    {
      "cell_type": "code",
      "metadata": {
        "id": "9FIdahMxMB_w"
      },
      "source": [
        "def temps_trajet(o_ts,d_ts):\r\n",
        "    return datetime.strptime(d_ts, '%Y-%m-%d %H:%M:%S+%f') - datetime.strptime(o_ts, '%Y-%m-%d %H:%M:%S+%f')\r\n",
        "\r\n",
        "class Trajet:\r\n",
        "    def __init__(self,row):\r\n",
        "        self.id = row[\"id\"]\r\n",
        "        self.company = row[\"company\"]\r\n",
        "        self.o_station = row[\"o_station\"]\r\n",
        "        self.d_station = row[\"d_station\"]\r\n",
        "        self.departure_ts = row[\"departure_ts\"]\r\n",
        "        self.arrival_ts = row[\"arrival_ts\"] \r\n",
        "        self.price_in_cents = row[\"price_in_cents\"]\r\n",
        "        self.search_ts = row[\"search_ts\"]\r\n",
        "        self.middle_stations = row[\"middle_stations\"]\r\n",
        "        self.other_companies = row[\"other_companies\"]\r\n",
        "        self.o_city = row[\"o_city\"]\r\n",
        "        self.d_city = row[\"d_city\"] \r\n",
        "    def temps_trajet(self):\r\n",
        "        return datetime.strptime(self.arrival_ts, '%Y-%m-%d %H:%M:%S+%f') - datetime.strptime(self.departure_ts, '%Y-%m-%d %H:%M:%S+%f')\r\n",
        "    def distance(self):\r\n",
        "      #distance euclidienne entre deux points\r\n",
        "            R = 6373.0\r\n",
        "            lat1 = radians(dic_cityid_to_lat[self.o_city])\r\n",
        "            lon1 = radians(dic_cityid_to_long[self.o_city])\r\n",
        "            lat2 = radians(dic_cityid_to_lat[self.d_city])\r\n",
        "            lon2 = radians(dic_cityid_to_long[self.d_city])\r\n",
        "            dlon = lon2 - lon1\r\n",
        "            dlat = lat2 - lat1\r\n",
        "            a = sin(dlat / 2)**2 + cos(lat1) * cos(lat2) * sin(dlon / 2)**2\r\n",
        "            c = 2 * atan2(sqrt(a), sqrt(1 - a))\r\n",
        "            return R * c\r\n",
        "    def __str__(self):\r\n",
        "        try:\r\n",
        "            o_city_str = dic_id_to_city[self.o_city]\r\n",
        "        except:\r\n",
        "            print(\"[ERREUR] ville de départ absente de la BDD\" )\r\n",
        "            o_city_str = \"---\"\r\n",
        "        try:\r\n",
        "            d_city_str = dic_id_to_city[self.d_city]\r\n",
        "        except:\r\n",
        "            print(\"[ERREUR] ville de d'arrivée absente de la BDD\")\r\n",
        "            d_city_str = \"---\" \r\n",
        "\r\n",
        "        return o_city_str + \" -> \" + d_city_str + \" temps: \"+ str(temps_trajet(self.departure_ts,self.arrival_ts)) + \" prix: \"+str(self.price_in_cents/100)+\"€\"\r\n"
      ],
      "execution_count": 14,
      "outputs": []
    },
    {
      "cell_type": "code",
      "metadata": {
        "id": "2Dnk32zUMHzq"
      },
      "source": [
        "#repertorie les trajets entre deux villes \r\n",
        "def trajets_original_to_destination(o_city,d_city):\r\n",
        "    list=[]\r\n",
        "    for trajet in index_inverse_villes[dic_city_to_id[o_city]]:\r\n",
        "        if (dic_city_to_id[d_city] == int(trajet[\"d_city\"])): \r\n",
        "            list.append(Trajet(trajet))\r\n",
        "    return list\r\n",
        "\r\n",
        "def str_to_date(str):\r\n",
        "    date_time_obj = datetime.datetime.strptime(str, '%Y-%m-%d %H:%M:%S.%f')\r\n",
        "    print(date_time_obj.date())\r\n",
        "\r\n",
        "def info_temps_depart_arrivee(city1,city2):\r\n",
        "    list = trajets_original_to_destination(city1,city2)\r\n",
        "    trajet_min=list[0]\r\n",
        "    print(city1 + \" -> \"+city2)\r\n",
        "    #MIN\r\n",
        "    for trajet in list:\r\n",
        "        if trajet.temps_trajet()<trajet_min.temps_trajet():\r\n",
        "            trajet_min = trajet\r\n",
        "    print(\"trajet le plus court : \"+str(trajet_min.id) + \" - \" +str(trajet_min.temps_trajet()))\r\n",
        "    #MAX\r\n",
        "    trajet_min=list[0]\r\n",
        "    for trajet in list:\r\n",
        "        if trajet.temps_trajet()>trajet_min.temps_trajet():\r\n",
        "            trajet_min = trajet\r\n",
        "    print(\"trajet le plus long : \"+str(trajet_min.id) + \" - \" +str(trajet_min.temps_trajet()))\r\n",
        "    #AVG\r\n",
        "    sum=0\r\n",
        "    for trajet in list:\r\n",
        "        sum += trajet.temps_trajet().seconds\r\n",
        "    print(\"moyenne des durées : \"+str(timedelta(seconds=round(sum/len(list)))))\r\n",
        "    print(\"\\n\")\r\n",
        "\r\n",
        "\r\n",
        "def info_prix_depart_arrivee(city1,city2):\r\n",
        "    list = trajets_original_to_destination(city1,city2)\r\n",
        "    trajet_min=list[0]\r\n",
        "    print(city1 + \" -> \"+city2)\r\n",
        "    #MIN\r\n",
        "    for trajet in list:\r\n",
        "        if trajet.price_in_cents<trajet_min.price_in_cents:\r\n",
        "            trajet_min = trajet\r\n",
        "    print(\"trajet le moins cher : \" + str(trajet_min.id) + \" - \" + str(trajet_min.price_in_cents/100) + \"€\")\r\n",
        "    #MAX\r\n",
        "    trajet_min=list[0]\r\n",
        "    for trajet in list:\r\n",
        "        if trajet.price_in_cents>trajet_min.price_in_cents:\r\n",
        "            trajet_min = trajet\r\n",
        "    print(\"trajet le plus cher : \" + str(trajet_min.id) + \" - \" + str(trajet_min.price_in_cents/100) + \"€\")\r\n",
        "    #AVG\r\n",
        "    sum=0\r\n",
        "    for trajet in list:\r\n",
        "        sum += trajet.price_in_cents\r\n",
        "    print(\"moyenne des prix : \"+str(round(sum/(100*len(list)),2))+\"€\" )\r\n",
        "    print(\"\\n\")\r\n",
        "\r\n",
        "#on centre et on reduit le temps pour pouvoir comparer les temps et les prix. on additionne les deux afin d'obtenir un score de performance et on classe selon ce score. On pourrait rajouter des coeficients pour le prix ou le temps\r\n",
        "def score_trajet(city1,city2):\r\n",
        "    liste = trajets_original_to_destination(city1,city2)\r\n",
        "    list_prix = list(map(lambda x: x.price_in_cents,liste))\r\n",
        "    mean_price = statistics.mean(list_prix)\r\n",
        "    pstdev_price = statistics.pstdev(list_prix)\r\n",
        "    key_price = lambda x:((x.price_in_cents-mean_price)/pstdev_price)\r\n",
        "    list_temps = list(map(lambda x: x.temps_trajet().total_seconds(),liste))\r\n",
        "    mean_temps = statistics.mean(list_temps)\r\n",
        "    pstdev_temps = statistics.pstdev(list_temps)\r\n",
        "    key_temps = lambda x:round(((x.temps_trajet().total_seconds()-mean_temps)/pstdev_temps),0)\r\n",
        "    return sorted(liste,key = lambda x :key_price(x)+key_temps(x))\r\n",
        "\r\n",
        "def analyse_transport(city1,city2):\r\n",
        "    print(city1 +\" -> \"+city2)\r\n",
        "    sc = trajets_original_to_destination(city1,city2)\r\n",
        "    dic_transport = {}\r\n",
        "    dic_result = {}\r\n",
        "    for trajet in sc:\r\n",
        "        transport_type = dic_id_to_transport_type[trajet.company]\r\n",
        "        if transport_type not in dic_transport.keys():\r\n",
        "            dic_transport[transport_type] = []\r\n",
        "        dic_transport[transport_type].append(trajet)\r\n",
        "    for t_type in dic_transport.keys():\r\n",
        "        prix_min = round(min(list(map(lambda x:x.price_in_cents,dic_transport[t_type])))/100,2)\r\n",
        "        prix_moyen = round(statistics.mean(list(map(lambda x:x.price_in_cents,dic_transport[t_type])))/100,2)\r\n",
        "        prix_max = round(max(list(map(lambda x:x.price_in_cents,dic_transport[t_type])))/100,2)\r\n",
        "        temps_min = timedelta(seconds = round(min(list(map(lambda x:x.temps_trajet().total_seconds(),dic_transport[t_type])))))\r\n",
        "        temps_moyen = timedelta(seconds = round(statistics.mean(list(map(lambda x:x.temps_trajet().total_seconds(),dic_transport[t_type])))))\r\n",
        "        temps_max = timedelta(seconds = round(max(list(map(lambda x:x.temps_trajet().total_seconds(),dic_transport[t_type])))))\r\n",
        "        dic_result[t_type]=[prix_min,prix_moyen,prix_max,temps_min,temps_moyen,temps_max]\r\n",
        "    return dic_result   \r\n",
        "\r\n",
        "def print_analyse_transport(dic):\r\n",
        "    for t_type in dic.keys():\r\n",
        "        print(t_type + \" - prix minimum : \" + str(dic[t_type][0])+\"€\")\r\n",
        "        print(t_type + \" - prix moyen : \" + str(dic[t_type][1])+\"€\")\r\n",
        "        print(t_type + \" - prix maximum : \" + str(dic[t_type][2])+\"€\")\r\n",
        "        print(t_type + \" - temps minimum : \" +str(dic[t_type][3]))\r\n",
        "        print(t_type + \" - temps moyen : \" +str(dic[t_type][4]))\r\n",
        "        print(t_type + \" - temps maximum : \" +str(dic[t_type][5]))\r\n",
        "\r\n",
        "  "
      ],
      "execution_count": 30,
      "outputs": []
    },
    {
      "cell_type": "code",
      "metadata": {
        "colab": {
          "base_uri": "https://localhost:8080/"
        },
        "id": "SkSnbyGzMhKR",
        "outputId": "bebf43a4-6134-4d15-ad31-cfd0a82f6734"
      },
      "source": [
        "info_temps_depart_arrivee(\"orleans\",\"montpellier\")\r\n",
        "info_prix_depart_arrivee(\"orleans\",\"montpellier\")"
      ],
      "execution_count": 21,
      "outputs": [
        {
          "output_type": "stream",
          "text": [
            "orleans -> montpellier\n",
            "trajet le plus court : 6795025 - 6:10:00\n",
            "trajet le plus long : 6795027 - 1 day, 7:57:00\n",
            "moyenne des durées : 15:03:36\n",
            "\n",
            "\n",
            "orleans -> montpellier\n",
            "trajet le moins cher : 6795026 - 14.5€\n",
            "trajet le plus cher : 6795028 - 135.0€\n",
            "moyenne des prix : 69.22€\n",
            "\n",
            "\n"
          ],
          "name": "stdout"
        }
      ]
    },
    {
      "cell_type": "code",
      "metadata": {
        "colab": {
          "base_uri": "https://localhost:8080/"
        },
        "id": "lEm-QI80Mktk",
        "outputId": "2e1404ff-0500-4b0f-e906-6905ece27363"
      },
      "source": [
        "info_prix_depart_arrivee(\"paris\",\"lille\")\r\n",
        "info_temps_depart_arrivee(\"paris\",\"lille\")"
      ],
      "execution_count": 22,
      "outputs": [
        {
          "output_type": "stream",
          "text": [
            "paris -> lille\n",
            "trajet le moins cher : 6800181 - 10.0€\n",
            "trajet le plus cher : 6839070 - 134.5€\n",
            "moyenne des prix : 20.31€\n",
            "\n",
            "\n",
            "paris -> lille\n",
            "trajet le plus court : 6814308 - 1:08:00\n",
            "trajet le plus long : 6832420 - 1 day, 13:20:00\n",
            "moyenne des durées : 3:07:22\n",
            "\n",
            "\n"
          ],
          "name": "stdout"
        }
      ]
    },
    {
      "cell_type": "code",
      "metadata": {
        "colab": {
          "base_uri": "https://localhost:8080/"
        },
        "id": "eofgfJA_M0a5",
        "outputId": "6e9fe5aa-33bc-415e-d707-2c1393acf198"
      },
      "source": [
        "print(print_analyse_transport(analyse_transport(\"paris\",\"lille\")))"
      ],
      "execution_count": 31,
      "outputs": [
        {
          "output_type": "stream",
          "text": [
            "paris -> lille\n",
            "carpooling - prix minimum : 11.0€\n",
            "carpooling - prix moyen : 16.89€\n",
            "carpooling - prix maximum : 134.5€\n",
            "carpooling - temps minimum : 1:50:00\n",
            "carpooling - temps moyen : 2:41:56\n",
            "carpooling - temps maximum : 14:20:00\n",
            "bus - prix minimum : 10.0€\n",
            "bus - prix moyen : 18.79€\n",
            "bus - prix maximum : 26.8€\n",
            "bus - temps minimum : 4:10:00\n",
            "bus - temps moyen : 12:02:15\n",
            "bus - temps maximum : 1 day, 13:20:00\n",
            "train - prix minimum : 19.5€\n",
            "train - prix moyen : 42.39€\n",
            "train - prix maximum : 98.0€\n",
            "train - temps minimum : 1:08:00\n",
            "train - temps moyen : 3:29:04\n",
            "train - temps maximum : 1 day, 9:29:00\n",
            "None\n"
          ],
          "name": "stdout"
        }
      ]
    },
    {
      "cell_type": "code",
      "metadata": {
        "id": "6iwV1HKEN0kt"
      },
      "source": [
        "trajet_par_distance=[[],[],[],[]]\r\n",
        "for index,row in ticket_data_df.iterrows():\r\n",
        "    trajet = Trajet(row)\r\n",
        "    if trajet.distance()<=200:\r\n",
        "        trajet_par_distance[0].append(trajet)\r\n",
        "    elif trajet.distance()<=800:\r\n",
        "        trajet_par_distance[1].append(trajet)\r\n",
        "    elif trajet.distance()<=2000:\r\n",
        "        trajet_par_distance[2].append(trajet)\r\n",
        "    else:\r\n",
        "        trajet_par_distance[3].append(trajet)"
      ],
      "execution_count": 32,
      "outputs": []
    },
    {
      "cell_type": "code",
      "metadata": {
        "colab": {
          "base_uri": "https://localhost:8080/"
        },
        "id": "3GVkC-LmN57A",
        "outputId": "4833149f-9798-4cf5-b9e6-7c965fd652bc"
      },
      "source": [
        "for sc in trajet_par_distance:\r\n",
        "    print(len(sc))\r\n",
        "    dic_transport = {}\r\n",
        "    dic_result = {}\r\n",
        "    for trajet in sc:\r\n",
        "        transport_type = dic_id_to_transport_type[trajet.company]\r\n",
        "        if transport_type not in dic_transport.keys():\r\n",
        "            dic_transport[transport_type] = []\r\n",
        "        dic_transport[transport_type].append(trajet)\r\n",
        "    for t_type in dic_transport.keys():\r\n",
        "        prix_min = round(min(list(map(lambda x:x.price_in_cents,dic_transport[t_type])))/100,2)\r\n",
        "        prix_moyen = round(statistics.mean(list(map(lambda x:x.price_in_cents,dic_transport[t_type])))/100,2)\r\n",
        "        prix_max = round(max(list(map(lambda x:x.price_in_cents,dic_transport[t_type])))/100,2)\r\n",
        "        temps_min = timedelta(seconds = round(min(list(map(lambda x:x.temps_trajet().total_seconds(),dic_transport[t_type])))))\r\n",
        "        temps_moyen = timedelta(seconds = round(statistics.mean(list(map(lambda x:x.temps_trajet().total_seconds(),dic_transport[t_type])))))\r\n",
        "        temps_max = timedelta(seconds = round(max(list(map(lambda x:x.temps_trajet().total_seconds(),dic_transport[t_type])))))\r\n",
        "        dic_result[t_type]=[prix_min,prix_moyen,prix_max,temps_min,temps_moyen,temps_max]\r\n",
        "    for t_type in dic_result.keys():\r\n",
        "        print(t_type + \" - prix minimum : \" + str(dic_result[t_type][0])+\"€\")\r\n",
        "        print(t_type + \" - prix moyen : \" + str(dic_result[t_type][1])+\"€\")\r\n",
        "        print(t_type + \" - prix maximum : \" + str(dic_result[t_type][2])+\"€\")\r\n",
        "        print(t_type + \" - temps minimum : \" +str(dic_result[t_type][3]))\r\n",
        "        print(t_type + \" - temps moyen : \" +str(dic_result[t_type][4]))\r\n",
        "        print(t_type + \" - temps maximum : \" +str(dic_result[t_type][5]))\r\n",
        "    print(\"\\n\")\r\n"
      ],
      "execution_count": 33,
      "outputs": [
        {
          "output_type": "stream",
          "text": [
            "13724\n",
            "carpooling - prix minimum : 3.0€\n",
            "carpooling - prix moyen : 11.77€\n",
            "carpooling - prix maximum : 128.5€\n",
            "carpooling - temps minimum : 0:20:00\n",
            "carpooling - temps moyen : 1:57:07\n",
            "carpooling - temps maximum : 17:20:00\n",
            "bus - prix minimum : 8.5€\n",
            "bus - prix moyen : 21.83€\n",
            "bus - prix maximum : 229.0€\n",
            "bus - temps minimum : 1:05:00\n",
            "bus - temps moyen : 10:13:57\n",
            "bus - temps maximum : 13 days, 5:45:00\n",
            "train - prix minimum : 4.9€\n",
            "train - prix moyen : 34.88€\n",
            "train - prix maximum : 251.0€\n",
            "train - temps minimum : 0:39:00\n",
            "train - temps moyen : 4:25:10\n",
            "train - temps maximum : 1 day, 10:27:00\n",
            "\n",
            "\n",
            "58877\n",
            "carpooling - prix minimum : 8.5€\n",
            "carpooling - prix moyen : 32.18€\n",
            "carpooling - prix maximum : 138.0€\n",
            "carpooling - temps minimum : 1:20:00\n",
            "carpooling - temps moyen : 4:45:47\n",
            "carpooling - temps maximum : 19:50:00\n",
            "bus - prix minimum : 10.0€\n",
            "bus - prix moyen : 34.95€\n",
            "bus - prix maximum : 224.8€\n",
            "bus - temps minimum : 2:29:00\n",
            "bus - temps moyen : 15:04:29\n",
            "bus - temps maximum : 20 days, 12:51:00\n",
            "train - prix minimum : 14.0€\n",
            "train - prix moyen : 91.25€\n",
            "train - prix maximum : 385.5€\n",
            "train - temps minimum : 1:08:00\n",
            "train - temps moyen : 7:40:40\n",
            "train - temps maximum : 2 days, 0:27:00\n",
            "\n",
            "\n",
            "1567\n",
            "carpooling - prix minimum : 44.96€\n",
            "carpooling - prix moyen : 86.27€\n",
            "carpooling - prix maximum : 161.5€\n",
            "carpooling - temps minimum : 7:50:00\n",
            "carpooling - temps moyen : 13:06:01\n",
            "carpooling - temps maximum : 1 day, 5:10:00\n",
            "bus - prix minimum : 22.9€\n",
            "bus - prix moyen : 69.5€\n",
            "bus - prix maximum : 174.0€\n",
            "bus - temps minimum : 12:15:00\n",
            "bus - temps moyen : 1 day, 3:32:10\n",
            "bus - temps maximum : 14 days, 17:00:00\n",
            "train - prix minimum : 19.4€\n",
            "train - prix moyen : 154.64€\n",
            "train - prix maximum : 375.5€\n",
            "train - temps minimum : 3:33:00\n",
            "train - temps moyen : 12:09:31\n",
            "train - temps maximum : 1 day, 16:37:00\n",
            "\n",
            "\n",
            "0\n",
            "\n",
            "\n"
          ],
          "name": "stdout"
        }
      ]
    }
  ]
}